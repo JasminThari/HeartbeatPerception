{
 "cells": [
  {
   "cell_type": "code",
   "execution_count": 77,
   "metadata": {},
   "outputs": [],
   "source": [
    "import numpy as np\n",
    "import re\n",
    "np.random.seed(42)"
   ]
  },
  {
   "cell_type": "code",
   "execution_count": 78,
   "metadata": {},
   "outputs": [
    {
     "name": "stdout",
     "output_type": "stream",
     "text": [
      "[[0, 25, 30, 35, 40, 45, 50, 55, 70, 75, 90, 110], [5, 10, 15, 20, 25, 30, 35, 40, 45, 60, 65, 70, 85, 90, 95, 100, 105], [0, 5, 10, 15, 20, 25, 30, 35, 40, 45, 50, 55, 60, 65, 70, 75, 80, 85, 90, 95, 100, 105, 110], [0, 5, 10, 15, 20, 25, 30, 35, 40, 45, 50, 55, 60, 65, 70, 75, 80, 85, 90, 95, 100, 105, 110], [0, 5, 10, 15, 20, 25, 30, 35, 40, 45, 50, 55, 60, 65, 70, 85, 90, 95, 100, 105, 110], [0, 5, 10, 15, 20, 25, 30, 35, 40, 45, 50, 55, 60, 65, 70, 75, 80, 85, 90, 95, 100, 105, 110], [0, 5, 10, 15, 20, 25, 40, 45, 50, 55, 65, 80, 85, 90, 110], [], [0, 5, 10, 15, 20, 25, 30, 35, 40, 45, 50, 65, 70, 75, 80, 85, 90, 95, 100, 105, 110], [0, 5, 10, 15, 20, 25, 30, 55, 60, 65, 80, 85, 90, 95, 100, 105], [0, 5, 10, 15, 20, 25, 30, 35, 40, 45, 50, 55, 60, 65, 70, 75, 80, 85, 90, 95, 100, 105, 110], [0, 5, 10, 15, 20, 25, 30, 35, 40, 45, 50, 55, 60, 65, 70, 75, 80, 85, 90, 95, 100, 105, 110], [5, 10, 15, 20, 25, 30, 35, 40, 45, 50, 55, 60, 65, 70, 75, 80, 85, 90, 105, 110]]\n"
     ]
    }
   ],
   "source": [
    "import re\n",
    "\n",
    "def extract_lists(file_path):\n",
    "    with open(file_path, 'r') as file:\n",
    "        content = file.read()\n",
    "    \n",
    "    # Regular expression to find the lists of times in the file\n",
    "    lists = re.findall(r'\\[(.*?)\\]', content)\n",
    "    \n",
    "    # Convert the extracted strings to actual lists of integers\n",
    "    extracted_lists = [list(map(int, lst.split(','))) if lst.strip() else [] for lst in lists]\n",
    "    \n",
    "    return extracted_lists\n",
    "\n",
    "# Example usage\n",
    "file_path = '../manual_time_stamps.txt'  # Replace with the actual file path\n",
    "time_lists = extract_lists(file_path)\n",
    "print(time_lists)"
   ]
  },
  {
   "cell_type": "code",
   "execution_count": 79,
   "metadata": {},
   "outputs": [],
   "source": [
    "def select_timestamps(times, num_slots=11, window_size=10):\n",
    "    tens = []\n",
    "    fives = []\n",
    "    time_slots = []\n",
    "    for time in times:\n",
    "        if time % 10 == 0:\n",
    "            tens.append(time)\n",
    "        else:\n",
    "            fives.append(time)\n",
    "    \n",
    "    if len(tens) > len(fives):\n",
    "        time_slots = tens\n",
    "        \n",
    "        if len(time_slots) > num_slots:\n",
    "            time_slots = np.random.choice(time_slots, size=num_slots, replace=False).tolist()\n",
    "            return sorted(time_slots)\n",
    "        \n",
    "        remainder = num_slots - len(time_slots)\n",
    "        extra_slots = np.random.choice(fives, size=remainder, replace=False).tolist()\n",
    "        time_slots += extra_slots\n",
    "    else:\n",
    "        time_slots = fives\n",
    "        \n",
    "        if len(time_slots) > num_slots:\n",
    "            time_slots = np.random.choice(time_slots, size=num_slots, replace=False).tolist()\n",
    "            return sorted(time_slots)\n",
    "        \n",
    "        remainder = num_slots - len(time_slots)\n",
    "        extra_slots = np.random.choice(tens, size=remainder, replace=False).tolist()\n",
    "        time_slots += extra_slots\n",
    "    \n",
    "\n",
    "    return sorted(time_slots)"
   ]
  },
  {
   "cell_type": "code",
   "execution_count": 80,
   "metadata": {},
   "outputs": [
    {
     "name": "stdout",
     "output_type": "stream",
     "text": [
      "For person 1\n",
      "[0, 25, 30, 35, 40, 45, 50, 70, 75, 90, 110]\n",
      "\n",
      "For person 2\n",
      "[5, 10, 15, 25, 35, 45, 65, 70, 85, 95, 105]\n",
      "\n",
      "For person 3\n",
      "[0, 10, 20, 30, 40, 50, 60, 70, 80, 90, 110]\n",
      "\n",
      "For person 4\n",
      "[0, 20, 30, 40, 50, 60, 70, 80, 90, 100, 110]\n",
      "\n",
      "For person 5\n",
      "[0, 10, 20, 30, 40, 50, 60, 70, 90, 100, 110]\n",
      "\n",
      "For person 6\n",
      "[0, 10, 20, 30, 40, 50, 70, 80, 90, 100, 110]\n",
      "\n",
      "For person 7\n",
      "[0, 10, 20, 25, 40, 45, 50, 80, 85, 90, 110]\n",
      "\n",
      "For person 9\n",
      "[0, 10, 20, 30, 40, 50, 70, 80, 90, 100, 110]\n",
      "\n",
      "For person 10\n",
      "[0, 5, 15, 20, 25, 55, 60, 65, 85, 95, 105]\n",
      "\n",
      "For person 11\n",
      "[0, 20, 30, 40, 50, 60, 70, 80, 90, 100, 110]\n",
      "\n",
      "For person 12\n",
      "[0, 10, 20, 30, 50, 60, 70, 80, 90, 100, 110]\n",
      "\n",
      "For person 13\n",
      "[5, 15, 20, 25, 35, 45, 55, 65, 75, 85, 105]\n",
      "\n"
     ]
    }
   ],
   "source": [
    "for i, times in enumerate(time_lists):\n",
    "    if i == 7:\n",
    "        continue\n",
    "    print(f\"For person {i+1}\")\n",
    "    print(select_timestamps(times, num_slots=11, window_size=10))\n",
    "    print()"
   ]
  },
  {
   "cell_type": "code",
   "execution_count": null,
   "metadata": {},
   "outputs": [],
   "source": []
  }
 ],
 "metadata": {
  "kernelspec": {
   "display_name": "Python 3",
   "language": "python",
   "name": "python3"
  },
  "language_info": {
   "codemirror_mode": {
    "name": "ipython",
    "version": 3
   },
   "file_extension": ".py",
   "mimetype": "text/x-python",
   "name": "python",
   "nbconvert_exporter": "python",
   "pygments_lexer": "ipython3",
   "version": "3.10.0"
  }
 },
 "nbformat": 4,
 "nbformat_minor": 2
}
