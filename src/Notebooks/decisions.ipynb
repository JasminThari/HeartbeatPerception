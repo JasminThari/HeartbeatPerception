{
 "cells": [
  {
   "cell_type": "code",
   "execution_count": 186,
   "metadata": {},
   "outputs": [],
   "source": [
    "import pandas as pd \n",
    "import random\n",
    "from itertools import combinations\n",
    "from collections import Counter"
   ]
  },
  {
   "cell_type": "code",
   "execution_count": 20,
   "metadata": {},
   "outputs": [],
   "source": [
    "person_video_segments = {\n",
    "    1: [0, 25, 30, 35, 40, 45, 50, 70, 75, 90, 110],\n",
    "    2: [5, 10, 15, 25, 35, 45, 65, 70, 85, 95, 105],\n",
    "    3: [0, 10, 20, 30, 40, 50, 60, 70, 80, 90, 110],\n",
    "    4: [0, 20, 30, 40, 50, 60, 70, 80, 90, 100, 110],\n",
    "    5: [0, 10, 20, 30, 40, 50, 60, 70, 90, 100, 110],\n",
    "    6: [0, 10, 20, 30, 40, 50, 70, 80, 90, 100, 110],\n",
    "    7: [0, 10, 20, 25, 40, 45, 50, 80, 85, 90, 110],\n",
    "    9: [0, 10, 20, 30, 40, 50, 70, 80, 90, 100, 110],\n",
    "    10: [0, 5, 15, 20, 25, 55, 60, 65, 85, 95, 105],\n",
    "    11: [0, 20, 30, 40, 50, 60, 70, 80, 90, 100, 110],\n",
    "    12: [0, 10, 20, 30, 50, 60, 70, 80, 90, 100, 110],\n",
    "    13: [5, 15, 20, 25, 35, 45, 55, 65, 75, 85, 105]\n",
    "    }"
   ]
  },
  {
   "cell_type": "markdown",
   "metadata": {},
   "source": [
    "# Pair Segments"
   ]
  },
  {
   "cell_type": "code",
   "execution_count": 21,
   "metadata": {},
   "outputs": [],
   "source": [
    "def pair_participants(person_video_segments):\n",
    "    # Create unique pairs of people\n",
    "    unique_pairs = list(combinations(person_video_segments.keys(), 2))\n",
    "\n",
    "    # Shuffle the segment lists for each person to ensure random selection\n",
    "    remaining_segments = {person: random.sample(segments, len(segments)) for person, segments in person_video_segments.items()}\n",
    "\n",
    "    # Assign pairs with random unique segments for each person\n",
    "    random_pairings = []\n",
    "\n",
    "    for person1, person2 in unique_pairs:\n",
    "        # Get the next available random segments for each person\n",
    "        if remaining_segments[person1] and remaining_segments[person2]:\n",
    "            segment1 = remaining_segments[person1].pop(0)\n",
    "            segment2 = remaining_segments[person2].pop(0)\n",
    "            random_pairings.append((person1, segment1, person2, segment2))\n",
    "    \n",
    "    df_random_pairings = pd.DataFrame(random_pairings, columns=['Participant_x', 'Segment_x', 'Participant_y', 'Segment_y'])\n",
    "    \n",
    "    return df_random_pairings"
   ]
  },
  {
   "cell_type": "code",
   "execution_count": 28,
   "metadata": {},
   "outputs": [],
   "source": [
    "df_random_pairings = pair_participants(person_video_segments)\n",
    "df_random_pairings.to_csv('participants_pairings.csv', index=False)"
   ]
  },
  {
   "cell_type": "markdown",
   "metadata": {},
   "source": [
    "# Decide left or right position of each pair."
   ]
  },
  {
   "cell_type": "code",
   "execution_count": 179,
   "metadata": {},
   "outputs": [],
   "source": [
    "# Step 1: Generate all possible pairs\n",
    "participants = list(person_video_segments.keys())\n",
    "all_pairs = list(combinations(participants, 2))\n",
    "random.shuffle(all_pairs)  # Shuffle the pairs\n",
    "\n",
    "# Step 2: Initialize Quotas\n",
    "def initialize_quotas():\n",
    "    random.shuffle(participants)\n",
    "    left_quota = {participant: 5 for participant in participants}\n",
    "    \n",
    "    # Assign extra Left quotas to reach total of 33 Left assignments\n",
    "    extra_left = 33 - len(participants) * 5  # Adjusted for 33 total Left assignments\n",
    "    for i in range(extra_left):\n",
    "        left_quota[participants[i]] = 6\n",
    "    return left_quota\n",
    "\n",
    "# Step 3: Define the Assignment Function\n",
    "def assign_pair_balanced(row, left_quota, left_count, right_count):\n",
    "    x = row['Participant_x']\n",
    "    y = row['Participant_y']\n",
    "    \n",
    "    # Check remaining Left quotas\n",
    "    x_left_remaining = left_quota[x] - left_count[x]\n",
    "    y_left_remaining = left_quota[y] - left_count[y]\n",
    "    \n",
    "    # Possible assignments\n",
    "    assignments = []\n",
    "    \n",
    "    if x_left_remaining > 0 and y_left_remaining > 0:\n",
    "        # Both can be assigned to Left; decide based on who needs more Left assignments\n",
    "        if x_left_remaining > y_left_remaining:\n",
    "            assignments.append((x, y))\n",
    "        elif y_left_remaining > x_left_remaining:\n",
    "            assignments.append((y, x))\n",
    "        else:\n",
    "            # If equal, randomly choose\n",
    "            assignments.extend([(x, y), (y, x)])\n",
    "    elif x_left_remaining > 0:\n",
    "        assignments.append((x, y))\n",
    "    elif y_left_remaining > 0:\n",
    "        assignments.append((y, x))\n",
    "    else:\n",
    "        # Neither can be assigned to Left based on quota; assign randomly\n",
    "        assignments.extend([(x, y), (y, x)])\n",
    "    \n",
    "    # Choose assignment\n",
    "    chosen_assignment = random.choice(assignments)\n",
    "    \n",
    "    # Update counts\n",
    "    left_count[chosen_assignment[0]] += 1\n",
    "    right_count[chosen_assignment[1]] += 1\n",
    "    \n",
    "    return pd.Series({'Left': chosen_assignment[0], 'Right': chosen_assignment[1]})\n",
    "\n",
    "# Main loop to ensure condition is met\n",
    "while True:\n",
    "    # Initialize the data and counts\n",
    "    df_side_assignment = pd.DataFrame(all_pairs, columns=['Participant_x', 'Participant_y'])\n",
    "    left_quota = initialize_quotas()\n",
    "    left_count = {participant: 0 for participant in participants}\n",
    "    right_count = {participant: 0 for participant in participants}\n",
    "    \n",
    "    # Apply the assignment function\n",
    "    df_side_assignment[['Left', 'Right']] = df_side_assignment.apply(assign_pair_balanced, axis=1, args=(left_quota, left_count, right_count))\n",
    "    \n",
    "    # Check if the value counts for 'Left' are all 5 or 6\n",
    "    left_counts = df_side_assignment['Left'].value_counts()\n",
    "    if all(count in [5, 6] for count in left_counts.values):\n",
    "        break  # Exit the loop if the condition is met"
   ]
  },
  {
   "cell_type": "code",
   "execution_count": 182,
   "metadata": {},
   "outputs": [],
   "source": [
    "df_side_assignment.to_csv('participants_side_assignment.csv', index=False)"
   ]
  },
  {
   "cell_type": "markdown",
   "metadata": {},
   "source": [
    "# Decide which heart beat to use"
   ]
  },
  {
   "cell_type": "code",
   "execution_count": 207,
   "metadata": {},
   "outputs": [],
   "source": [
    "def assign_heartbeat(row):\n",
    "    # Get available participants\n",
    "    x = row['Participant_x']\n",
    "    y = row['Participant_y']\n",
    "    \n",
    "    # Get the current count of heartbeats for both participants\n",
    "    x_count = heartbeat_count[x]\n",
    "    y_count = heartbeat_count[y]\n",
    "    \n",
    "    # Decide randomly but balance the distribution with constraints\n",
    "    if x_count < 6 and (y_count >= 6 or random.choice([True, False])):\n",
    "        heartbeat_count[x] += 1\n",
    "        return x\n",
    "    else:\n",
    "        heartbeat_count[y] += 1\n",
    "        return y\n",
    "\n",
    "# Main loop to ensure condition is met\n",
    "while True:\n",
    "    # Step 1: Generate all possible pairs\n",
    "    participants = list(person_video_segments.keys())\n",
    "    all_pairs = list(combinations(participants, 2))\n",
    "    random.shuffle(all_pairs)  # Shuffle the pairs\n",
    "\n",
    "    # Step 2: Initialize dataframe with pairs\n",
    "    df_heat_beat = pd.DataFrame(all_pairs, columns=['Participant_x', 'Participant_y'])\n",
    "\n",
    "    # Step 3: Distribute heartbeats ensuring max 6 and min 5 for each participant\n",
    "    heartbeat_count = Counter()\n",
    "    \n",
    "    # Apply the assignment function\n",
    "    df_heat_beat['HeartBeat']= df_heat_beat.apply(assign_heartbeat, axis=1)\n",
    "    \n",
    "    # Check if the value counts for 'Left' are all 5 or 6\n",
    "    heartbeat_counts = df_heat_beat['HeartBeat'].value_counts()\n",
    "    if all(count in [5, 6] for count in heartbeat_counts.values):\n",
    "        break  # Exit the loop if the condition is met\n"
   ]
  },
  {
   "cell_type": "code",
   "execution_count": 210,
   "metadata": {},
   "outputs": [],
   "source": [
    "df_heat_beat.to_csv('participants_heartbeat_assignment.csv', index=False)"
   ]
  },
  {
   "cell_type": "markdown",
   "metadata": {},
   "source": [
    "# Make on dataframe with all the information"
   ]
  },
  {
   "cell_type": "code",
   "execution_count": 211,
   "metadata": {},
   "outputs": [],
   "source": [
    "df_heat_beat = pd.read_csv('participants_heartbeat_assignment.csv')\n",
    "df_side_assignment = pd.read_csv('participants_side_assignment.csv')\n",
    "df_random_pairings = pd.read_csv('participants_pairings.csv')"
   ]
  },
  {
   "cell_type": "code",
   "execution_count": 214,
   "metadata": {},
   "outputs": [],
   "source": [
    "df_merge_1 = pd.merge(df_random_pairings, df_side_assignment, on=['Participant_x', 'Participant_y'])\n",
    "df_final = pd.merge(df_merge_1, df_heat_beat, on=['Participant_x', 'Participant_y'])"
   ]
  },
  {
   "cell_type": "code",
   "execution_count": 216,
   "metadata": {},
   "outputs": [],
   "source": []
  }
 ],
 "metadata": {
  "kernelspec": {
   "display_name": "env_ecg",
   "language": "python",
   "name": "python3"
  },
  "language_info": {
   "codemirror_mode": {
    "name": "ipython",
    "version": 3
   },
   "file_extension": ".py",
   "mimetype": "text/x-python",
   "name": "python",
   "nbconvert_exporter": "python",
   "pygments_lexer": "ipython3",
   "version": "3.11.0"
  }
 },
 "nbformat": 4,
 "nbformat_minor": 2
}
